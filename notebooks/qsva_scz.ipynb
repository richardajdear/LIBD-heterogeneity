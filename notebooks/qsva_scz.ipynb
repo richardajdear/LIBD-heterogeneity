{
 "cells": [
  {
   "attachments": {},
   "cell_type": "markdown",
   "metadata": {},
   "source": [
    "# Get qSV-regressed clean data for SCZ cases"
   ]
  },
  {
   "attachments": {},
   "cell_type": "markdown",
   "metadata": {},
   "source": [
    "Initial purpose is to check whether AHBA axes help parse heterogeneity"
   ]
  },
  {
   "cell_type": "code",
   "execution_count": 3,
   "metadata": {
    "vscode": {
     "languageId": "r"
    }
   },
   "outputs": [
    {
     "name": "stderr",
     "output_type": "stream",
     "text": [
      "Loading required package: rafalib\n",
      "\n",
      "Loading required package: SummarizedExperiment\n",
      "\n",
      "Loading required package: MatrixGenerics\n",
      "\n",
      "Loading required package: matrixStats\n",
      "\n",
      "\n",
      "Attaching package: ‘MatrixGenerics’\n",
      "\n",
      "\n",
      "The following objects are masked from ‘package:matrixStats’:\n",
      "\n",
      "    colAlls, colAnyNAs, colAnys, colAvgsPerRowSet, colCollapse,\n",
      "    colCounts, colCummaxs, colCummins, colCumprods, colCumsums,\n",
      "    colDiffs, colIQRDiffs, colIQRs, colLogSumExps, colMadDiffs,\n",
      "    colMads, colMaxs, colMeans2, colMedians, colMins, colOrderStats,\n",
      "    colProds, colQuantiles, colRanges, colRanks, colSdDiffs, colSds,\n",
      "    colSums2, colTabulates, colVarDiffs, colVars, colWeightedMads,\n",
      "    colWeightedMeans, colWeightedMedians, colWeightedSds,\n",
      "    colWeightedVars, rowAlls, rowAnyNAs, rowAnys, rowAvgsPerColSet,\n",
      "    rowCollapse, rowCounts, rowCummaxs, rowCummins, rowCumprods,\n",
      "    rowCumsums, rowDiffs, rowIQRDiffs, rowIQRs, rowLogSumExps,\n",
      "    rowMadDiffs, rowMads, rowMaxs, rowMeans2, rowMedians, rowMins,\n",
      "    rowOrderStats, rowProds, rowQuantiles, rowRanges, rowRanks,\n",
      "    rowSdDiffs, rowSds, rowSums2, rowTabulates, rowVarDiffs, rowVars,\n",
      "    rowWeightedMads, rowWeightedMeans, rowWeightedMedians,\n",
      "    rowWeightedSds, rowWeightedVars\n",
      "\n",
      "\n",
      "Loading required package: GenomicRanges\n",
      "\n",
      "Loading required package: stats4\n",
      "\n",
      "Loading required package: BiocGenerics\n",
      "\n",
      "\n",
      "Attaching package: ‘BiocGenerics’\n",
      "\n",
      "\n",
      "The following objects are masked from ‘package:stats’:\n",
      "\n",
      "    IQR, mad, sd, var, xtabs\n",
      "\n",
      "\n",
      "The following objects are masked from ‘package:base’:\n",
      "\n",
      "    Filter, Find, Map, Position, Reduce, anyDuplicated, aperm, append,\n",
      "    as.data.frame, basename, cbind, colnames, dirname, do.call,\n",
      "    duplicated, eval, evalq, get, grep, grepl, intersect, is.unsorted,\n",
      "    lapply, mapply, match, mget, order, paste, pmax, pmax.int, pmin,\n",
      "    pmin.int, rank, rbind, rownames, sapply, setdiff, sort, table,\n",
      "    tapply, union, unique, unsplit, which.max, which.min\n",
      "\n",
      "\n",
      "Loading required package: S4Vectors\n",
      "\n",
      "\n",
      "Attaching package: ‘S4Vectors’\n",
      "\n",
      "\n",
      "The following objects are masked from ‘package:base’:\n",
      "\n",
      "    I, expand.grid, unname\n",
      "\n",
      "\n",
      "Loading required package: IRanges\n",
      "\n",
      "\n",
      "Attaching package: ‘IRanges’\n",
      "\n",
      "\n",
      "The following object is masked from ‘package:glue’:\n",
      "\n",
      "    trim\n",
      "\n",
      "\n",
      "Loading required package: GenomeInfoDb\n",
      "\n",
      "Loading required package: Biobase\n",
      "\n",
      "Welcome to Bioconductor\n",
      "\n",
      "    Vignettes contain introductory material; view with\n",
      "    'browseVignettes()'. To cite Bioconductor, see\n",
      "    'citation(\"Biobase\")', and for packages 'citation(\"pkgname\")'.\n",
      "\n",
      "\n",
      "\n",
      "Attaching package: ‘Biobase’\n",
      "\n",
      "\n",
      "The following object is masked from ‘package:MatrixGenerics’:\n",
      "\n",
      "    rowMedians\n",
      "\n",
      "\n",
      "The following objects are masked from ‘package:matrixStats’:\n",
      "\n",
      "    anyMissing, rowMedians\n",
      "\n",
      "\n",
      "Setting options('download.file.method.GEOquery'='auto')\n",
      "\n",
      "Setting options('GEOquery.inmemory.gpl'=FALSE)\n",
      "\n",
      "Loading required package: dynamicTreeCut\n",
      "\n",
      "Loading required package: fastcluster\n",
      "\n",
      "\n",
      "Attaching package: ‘fastcluster’\n",
      "\n",
      "\n",
      "The following object is masked from ‘package:stats’:\n",
      "\n",
      "    hclust\n",
      "\n",
      "\n",
      "\n",
      "\n",
      "\n",
      "Attaching package: ‘WGCNA’\n",
      "\n",
      "\n",
      "The following object is masked from ‘package:IRanges’:\n",
      "\n",
      "    cor\n",
      "\n",
      "\n",
      "The following object is masked from ‘package:S4Vectors’:\n",
      "\n",
      "    cor\n",
      "\n",
      "\n",
      "The following object is masked from ‘package:stats’:\n",
      "\n",
      "    cor\n",
      "\n",
      "\n",
      "── \u001b[1mAttaching packages\u001b[22m ─────────────────────────────────────── tidyverse 1.3.2 ──\n",
      "\u001b[32m✔\u001b[39m \u001b[34mggplot2\u001b[39m 3.4.0      \u001b[32m✔\u001b[39m \u001b[34mpurrr  \u001b[39m 0.3.5 \n",
      "\u001b[32m✔\u001b[39m \u001b[34mtibble \u001b[39m 3.1.8      \u001b[32m✔\u001b[39m \u001b[34mdplyr  \u001b[39m 1.0.10\n",
      "\u001b[32m✔\u001b[39m \u001b[34mtidyr  \u001b[39m 1.2.1      \u001b[32m✔\u001b[39m \u001b[34mstringr\u001b[39m 1.4.1 \n",
      "\u001b[32m✔\u001b[39m \u001b[34mreadr  \u001b[39m 2.1.3      \u001b[32m✔\u001b[39m \u001b[34mforcats\u001b[39m 0.5.2 \n",
      "── \u001b[1mConflicts\u001b[22m ────────────────────────────────────────── tidyverse_conflicts() ──\n",
      "\u001b[31m✖\u001b[39m \u001b[34mggplot2\u001b[39m::\u001b[32mPosition()\u001b[39m masks \u001b[34mBiocGenerics\u001b[39m::Position(), \u001b[34mbase\u001b[39m::Position()\n",
      "\u001b[31m✖\u001b[39m \u001b[34mdplyr\u001b[39m::\u001b[32mcollapse()\u001b[39m   masks \u001b[34mIRanges\u001b[39m::collapse()\n",
      "\u001b[31m✖\u001b[39m \u001b[34mdplyr\u001b[39m::\u001b[32mcombine()\u001b[39m    masks \u001b[34mBiobase\u001b[39m::combine(), \u001b[34mBiocGenerics\u001b[39m::combine()\n",
      "\u001b[31m✖\u001b[39m \u001b[34mdplyr\u001b[39m::\u001b[32mcount()\u001b[39m      masks \u001b[34mmatrixStats\u001b[39m::count()\n",
      "\u001b[31m✖\u001b[39m \u001b[34mdplyr\u001b[39m::\u001b[32mdesc()\u001b[39m       masks \u001b[34mIRanges\u001b[39m::desc()\n",
      "\u001b[31m✖\u001b[39m \u001b[34mtidyr\u001b[39m::\u001b[32mexpand()\u001b[39m     masks \u001b[34mS4Vectors\u001b[39m::expand()\n",
      "\u001b[31m✖\u001b[39m \u001b[34mdplyr\u001b[39m::\u001b[32mfilter()\u001b[39m     masks \u001b[34mstats\u001b[39m::filter()\n",
      "\u001b[31m✖\u001b[39m \u001b[34mdplyr\u001b[39m::\u001b[32mfirst()\u001b[39m      masks \u001b[34mS4Vectors\u001b[39m::first()\n",
      "\u001b[31m✖\u001b[39m \u001b[34mdplyr\u001b[39m::\u001b[32mlag()\u001b[39m        masks \u001b[34mstats\u001b[39m::lag()\n",
      "\u001b[31m✖\u001b[39m \u001b[34mpurrr\u001b[39m::\u001b[32mreduce()\u001b[39m     masks \u001b[34mGenomicRanges\u001b[39m::reduce(), \u001b[34mIRanges\u001b[39m::reduce()\n",
      "\u001b[31m✖\u001b[39m \u001b[34mdplyr\u001b[39m::\u001b[32mrename()\u001b[39m     masks \u001b[34mS4Vectors\u001b[39m::rename()\n",
      "\u001b[31m✖\u001b[39m \u001b[34mdplyr\u001b[39m::\u001b[32mslice()\u001b[39m      masks \u001b[34mIRanges\u001b[39m::slice()\n"
     ]
    }
   ],
   "source": [
    "source(\"../code/preprocess.R\")"
   ]
  },
  {
   "attachments": {},
   "cell_type": "markdown",
   "metadata": {},
   "source": [
    "## Understanding data..."
   ]
  },
  {
   "attachments": {},
   "cell_type": "markdown",
   "metadata": {},
   "source": [
    "Data received from LIBD (has clinical data)"
   ]
  },
  {
   "cell_type": "code",
   "execution_count": null,
   "metadata": {
    "vscode": {
     "languageId": "r"
    }
   },
   "outputs": [],
   "source": [
    "load(\"../data/rse_gene_BrainSeq_phases_1_2.n1627.Rdata\")"
   ]
  },
  {
   "cell_type": "code",
   "execution_count": 49,
   "metadata": {
    "vscode": {
     "languageId": "r"
    }
   },
   "outputs": [
    {
     "name": "stderr",
     "output_type": "stream",
     "text": [
      "\u001b[1m\u001b[22m`summarise()` has grouped output by 'Dataset'. You can override using the\n",
      "`.groups` argument.\n"
     ]
    },
    {
     "data": {
      "text/html": [
       "<table class=\"dataframe\">\n",
       "<caption>A grouped_df: 10 × 3</caption>\n",
       "<thead>\n",
       "\t<tr><th scope=col>Dataset</th><th scope=col>Dx</th><th scope=col>n_samples</th></tr>\n",
       "\t<tr><th scope=col>&lt;chr&gt;</th><th scope=col>&lt;ord&gt;</th><th scope=col>&lt;int&gt;</th></tr>\n",
       "</thead>\n",
       "<tbody>\n",
       "\t<tr><td>BrainSeq_Phase1      </td><td>Control</td><td>332</td></tr>\n",
       "\t<tr><td>BrainSeq_Phase1      </td><td>SCZD   </td><td>178</td></tr>\n",
       "\t<tr><td>BrainSeq_Phase1      </td><td>MDD    </td><td>150</td></tr>\n",
       "\t<tr><td>BrainSeq_Phase1      </td><td>Bipolar</td><td> 67</td></tr>\n",
       "\t<tr><td>BrainSeq_Phase2_DLPFC</td><td>Control</td><td>300</td></tr>\n",
       "\t<tr><td>BrainSeq_Phase2_DLPFC</td><td>SCZD   </td><td>152</td></tr>\n",
       "\t<tr><td>BrainSeq_Phase2_DLPFC</td><td>MDD    </td><td>  1</td></tr>\n",
       "\t<tr><td>BrainSeq_Phase2_HIPPO</td><td>Control</td><td>314</td></tr>\n",
       "\t<tr><td>BrainSeq_Phase2_HIPPO</td><td>SCZD   </td><td>132</td></tr>\n",
       "\t<tr><td>BrainSeq_Phase2_HIPPO</td><td>MDD    </td><td>  1</td></tr>\n",
       "</tbody>\n",
       "</table>\n"
      ],
      "text/latex": [
       "A grouped\\_df: 10 × 3\n",
       "\\begin{tabular}{lll}\n",
       " Dataset & Dx & n\\_samples\\\\\n",
       " <chr> & <ord> & <int>\\\\\n",
       "\\hline\n",
       "\t BrainSeq\\_Phase1       & Control & 332\\\\\n",
       "\t BrainSeq\\_Phase1       & SCZD    & 178\\\\\n",
       "\t BrainSeq\\_Phase1       & MDD     & 150\\\\\n",
       "\t BrainSeq\\_Phase1       & Bipolar &  67\\\\\n",
       "\t BrainSeq\\_Phase2\\_DLPFC & Control & 300\\\\\n",
       "\t BrainSeq\\_Phase2\\_DLPFC & SCZD    & 152\\\\\n",
       "\t BrainSeq\\_Phase2\\_DLPFC & MDD     &   1\\\\\n",
       "\t BrainSeq\\_Phase2\\_HIPPO & Control & 314\\\\\n",
       "\t BrainSeq\\_Phase2\\_HIPPO & SCZD    & 132\\\\\n",
       "\t BrainSeq\\_Phase2\\_HIPPO & MDD     &   1\\\\\n",
       "\\end{tabular}\n"
      ],
      "text/markdown": [
       "\n",
       "A grouped_df: 10 × 3\n",
       "\n",
       "| Dataset &lt;chr&gt; | Dx &lt;ord&gt; | n_samples &lt;int&gt; |\n",
       "|---|---|---|\n",
       "| BrainSeq_Phase1       | Control | 332 |\n",
       "| BrainSeq_Phase1       | SCZD    | 178 |\n",
       "| BrainSeq_Phase1       | MDD     | 150 |\n",
       "| BrainSeq_Phase1       | Bipolar |  67 |\n",
       "| BrainSeq_Phase2_DLPFC | Control | 300 |\n",
       "| BrainSeq_Phase2_DLPFC | SCZD    | 152 |\n",
       "| BrainSeq_Phase2_DLPFC | MDD     |   1 |\n",
       "| BrainSeq_Phase2_HIPPO | Control | 314 |\n",
       "| BrainSeq_Phase2_HIPPO | SCZD    | 132 |\n",
       "| BrainSeq_Phase2_HIPPO | MDD     |   1 |\n",
       "\n"
      ],
      "text/plain": [
       "   Dataset               Dx      n_samples\n",
       "1  BrainSeq_Phase1       Control 332      \n",
       "2  BrainSeq_Phase1       SCZD    178      \n",
       "3  BrainSeq_Phase1       MDD     150      \n",
       "4  BrainSeq_Phase1       Bipolar  67      \n",
       "5  BrainSeq_Phase2_DLPFC Control 300      \n",
       "6  BrainSeq_Phase2_DLPFC SCZD    152      \n",
       "7  BrainSeq_Phase2_DLPFC MDD       1      \n",
       "8  BrainSeq_Phase2_HIPPO Control 314      \n",
       "9  BrainSeq_Phase2_HIPPO SCZD    132      \n",
       "10 BrainSeq_Phase2_HIPPO MDD       1      "
      ]
     },
     "metadata": {},
     "output_type": "display_data"
    }
   ],
   "source": [
    "colData(rse_gene) %>% data.frame %>% group_by(Dataset,Dx) %>% \n",
    "summarise(n_samples=n()) %>% \n",
    "mutate(Dx = factor(Dx, levels=c('Control', 'SCZD', 'MDD', 'Bipolar'), ordered=T)) %>% arrange(Dataset, Dx)\n",
    "# summarise(samples=n_distinct(RNum), donors = n_distinct(BrNum))"
   ]
  },
  {
   "cell_type": "code",
   "execution_count": 25,
   "metadata": {
    "vscode": {
     "languageId": "r"
    }
   },
   "outputs": [],
   "source": [
    "library(readxl)\n",
    "clinical <- read_excel(\"../data/Clin fields_ADS_subjects for UCAM collab_shared 2022.xlsx\")"
   ]
  },
  {
   "cell_type": "code",
   "execution_count": 18,
   "metadata": {
    "vscode": {
     "languageId": "r"
    }
   },
   "outputs": [
    {
     "data": {
      "text/html": [
       "861"
      ],
      "text/latex": [
       "861"
      ],
      "text/markdown": [
       "861"
      ],
      "text/plain": [
       "[1] 861"
      ]
     },
     "metadata": {},
     "output_type": "display_data"
    }
   ],
   "source": [
    "colData(rse_gene)$BrNum %>% unique %>% length"
   ]
  },
  {
   "cell_type": "code",
   "execution_count": 48,
   "metadata": {
    "vscode": {
     "languageId": "r"
    }
   },
   "outputs": [
    {
     "name": "stderr",
     "output_type": "stream",
     "text": [
      "\u001b[1m\u001b[22m`summarise()` has grouped output by 'Dx'. You can override using the `.groups`\n",
      "argument.\n",
      "\u001b[1m\u001b[22m`summarise()` has grouped output by 'Dx', 'Phase1_DLPFC', 'Phase2_DLPFC'. You\n",
      "can override using the `.groups` argument.\n"
     ]
    },
    {
     "data": {
      "text/html": [
       "<table class=\"dataframe\">\n",
       "<caption>A grouped_df: 17 × 5</caption>\n",
       "<thead>\n",
       "\t<tr><th scope=col>Dx</th><th scope=col>Phase1_DLPFC</th><th scope=col>Phase2_DLPFC</th><th scope=col>Phase2_HIPPO</th><th scope=col>n_donors</th></tr>\n",
       "\t<tr><th scope=col>&lt;ord&gt;</th><th scope=col>&lt;int&gt;</th><th scope=col>&lt;int&gt;</th><th scope=col>&lt;int&gt;</th><th scope=col>&lt;int&gt;</th></tr>\n",
       "</thead>\n",
       "<tbody>\n",
       "\t<tr><td>Control</td><td>1</td><td>1</td><td>1</td><td>188</td></tr>\n",
       "\t<tr><td>Control</td><td>1</td><td>1</td><td>0</td><td> 43</td></tr>\n",
       "\t<tr><td>Control</td><td>1</td><td>0</td><td>1</td><td> 46</td></tr>\n",
       "\t<tr><td>Control</td><td>1</td><td>0</td><td>0</td><td> 55</td></tr>\n",
       "\t<tr><td>Control</td><td>0</td><td>1</td><td>1</td><td> 52</td></tr>\n",
       "\t<tr><td>Control</td><td>0</td><td>1</td><td>0</td><td> 17</td></tr>\n",
       "\t<tr><td>Control</td><td>0</td><td>0</td><td>1</td><td> 28</td></tr>\n",
       "\t<tr><td>SCZD   </td><td>1</td><td>1</td><td>1</td><td> 87</td></tr>\n",
       "\t<tr><td>SCZD   </td><td>1</td><td>1</td><td>0</td><td> 36</td></tr>\n",
       "\t<tr><td>SCZD   </td><td>1</td><td>0</td><td>1</td><td> 16</td></tr>\n",
       "\t<tr><td>SCZD   </td><td>1</td><td>0</td><td>0</td><td> 39</td></tr>\n",
       "\t<tr><td>SCZD   </td><td>0</td><td>1</td><td>1</td><td> 21</td></tr>\n",
       "\t<tr><td>SCZD   </td><td>0</td><td>1</td><td>0</td><td>  8</td></tr>\n",
       "\t<tr><td>SCZD   </td><td>0</td><td>0</td><td>1</td><td>  8</td></tr>\n",
       "\t<tr><td>MDD    </td><td>1</td><td>1</td><td>1</td><td>  1</td></tr>\n",
       "\t<tr><td>MDD    </td><td>1</td><td>0</td><td>0</td><td>149</td></tr>\n",
       "\t<tr><td>Bipolar</td><td>1</td><td>0</td><td>0</td><td> 67</td></tr>\n",
       "</tbody>\n",
       "</table>\n"
      ],
      "text/latex": [
       "A grouped\\_df: 17 × 5\n",
       "\\begin{tabular}{lllll}\n",
       " Dx & Phase1\\_DLPFC & Phase2\\_DLPFC & Phase2\\_HIPPO & n\\_donors\\\\\n",
       " <ord> & <int> & <int> & <int> & <int>\\\\\n",
       "\\hline\n",
       "\t Control & 1 & 1 & 1 & 188\\\\\n",
       "\t Control & 1 & 1 & 0 &  43\\\\\n",
       "\t Control & 1 & 0 & 1 &  46\\\\\n",
       "\t Control & 1 & 0 & 0 &  55\\\\\n",
       "\t Control & 0 & 1 & 1 &  52\\\\\n",
       "\t Control & 0 & 1 & 0 &  17\\\\\n",
       "\t Control & 0 & 0 & 1 &  28\\\\\n",
       "\t SCZD    & 1 & 1 & 1 &  87\\\\\n",
       "\t SCZD    & 1 & 1 & 0 &  36\\\\\n",
       "\t SCZD    & 1 & 0 & 1 &  16\\\\\n",
       "\t SCZD    & 1 & 0 & 0 &  39\\\\\n",
       "\t SCZD    & 0 & 1 & 1 &  21\\\\\n",
       "\t SCZD    & 0 & 1 & 0 &   8\\\\\n",
       "\t SCZD    & 0 & 0 & 1 &   8\\\\\n",
       "\t MDD     & 1 & 1 & 1 &   1\\\\\n",
       "\t MDD     & 1 & 0 & 0 & 149\\\\\n",
       "\t Bipolar & 1 & 0 & 0 &  67\\\\\n",
       "\\end{tabular}\n"
      ],
      "text/markdown": [
       "\n",
       "A grouped_df: 17 × 5\n",
       "\n",
       "| Dx &lt;ord&gt; | Phase1_DLPFC &lt;int&gt; | Phase2_DLPFC &lt;int&gt; | Phase2_HIPPO &lt;int&gt; | n_donors &lt;int&gt; |\n",
       "|---|---|---|---|---|\n",
       "| Control | 1 | 1 | 1 | 188 |\n",
       "| Control | 1 | 1 | 0 |  43 |\n",
       "| Control | 1 | 0 | 1 |  46 |\n",
       "| Control | 1 | 0 | 0 |  55 |\n",
       "| Control | 0 | 1 | 1 |  52 |\n",
       "| Control | 0 | 1 | 0 |  17 |\n",
       "| Control | 0 | 0 | 1 |  28 |\n",
       "| SCZD    | 1 | 1 | 1 |  87 |\n",
       "| SCZD    | 1 | 1 | 0 |  36 |\n",
       "| SCZD    | 1 | 0 | 1 |  16 |\n",
       "| SCZD    | 1 | 0 | 0 |  39 |\n",
       "| SCZD    | 0 | 1 | 1 |  21 |\n",
       "| SCZD    | 0 | 1 | 0 |   8 |\n",
       "| SCZD    | 0 | 0 | 1 |   8 |\n",
       "| MDD     | 1 | 1 | 1 |   1 |\n",
       "| MDD     | 1 | 0 | 0 | 149 |\n",
       "| Bipolar | 1 | 0 | 0 |  67 |\n",
       "\n"
      ],
      "text/plain": [
       "   Dx      Phase1_DLPFC Phase2_DLPFC Phase2_HIPPO n_donors\n",
       "1  Control 1            1            1            188     \n",
       "2  Control 1            1            0             43     \n",
       "3  Control 1            0            1             46     \n",
       "4  Control 1            0            0             55     \n",
       "5  Control 0            1            1             52     \n",
       "6  Control 0            1            0             17     \n",
       "7  Control 0            0            1             28     \n",
       "8  SCZD    1            1            1             87     \n",
       "9  SCZD    1            1            0             36     \n",
       "10 SCZD    1            0            1             16     \n",
       "11 SCZD    1            0            0             39     \n",
       "12 SCZD    0            1            1             21     \n",
       "13 SCZD    0            1            0              8     \n",
       "14 SCZD    0            0            1              8     \n",
       "15 MDD     1            1            1              1     \n",
       "16 MDD     1            0            0            149     \n",
       "17 Bipolar 1            0            0             67     "
      ]
     },
     "metadata": {},
     "output_type": "display_data"
    }
   ],
   "source": [
    "colData(rse_gene) %>% data.frame %>% select(BrNum, Dataset, Region, Dx) %>% \n",
    "group_by(Dx, BrNum) %>% \n",
    "# mutate(\n",
    "#     n=n()\n",
    "# ) %>%\n",
    "summarise(\n",
    "    Phase1_DLPFC=sum(Dataset=='BrainSeq_Phase1'),\n",
    "    Phase2_DLPFC=sum(Dataset=='BrainSeq_Phase2_DLPFC'),\n",
    "    Phase2_HIPPO=sum(Dataset=='BrainSeq_Phase2_HIPPO')\n",
    ") %>% \n",
    "group_by(Dx,Phase1_DLPFC,Phase2_DLPFC, Phase2_HIPPO) %>% \n",
    "summarize(n_donors=n()) %>% \n",
    "mutate(Dx = factor(Dx, levels=c('Control', 'SCZD', 'MDD', 'Bipolar'), ordered=T)) %>% \n",
    "arrange(Dx, -row_number())\n",
    "# filter(Dx=='MDD', n>1)\n",
    "# group_by(Dataset, Region, n) %>% count()\n",
    "# filter(n==3) %>% arrange(BrNum) %>% head"
   ]
  },
  {
   "cell_type": "code",
   "execution_count": 53,
   "metadata": {
    "vscode": {
     "languageId": "r"
    }
   },
   "outputs": [
    {
     "data": {
      "text/html": [
       "<table class=\"dataframe\">\n",
       "<caption>A data.frame: 3 × 3</caption>\n",
       "<thead>\n",
       "\t<tr><th scope=col>clinical</th><th scope=col>expression</th><th scope=col>n</th></tr>\n",
       "\t<tr><th scope=col>&lt;lgl&gt;</th><th scope=col>&lt;lgl&gt;</th><th scope=col>&lt;int&gt;</th></tr>\n",
       "</thead>\n",
       "<tbody>\n",
       "\t<tr><td>FALSE</td><td> TRUE</td><td>  1</td></tr>\n",
       "\t<tr><td> TRUE</td><td>FALSE</td><td> 98</td></tr>\n",
       "\t<tr><td> TRUE</td><td> TRUE</td><td>860</td></tr>\n",
       "</tbody>\n",
       "</table>\n"
      ],
      "text/latex": [
       "A data.frame: 3 × 3\n",
       "\\begin{tabular}{lll}\n",
       " clinical & expression & n\\\\\n",
       " <lgl> & <lgl> & <int>\\\\\n",
       "\\hline\n",
       "\t FALSE &  TRUE &   1\\\\\n",
       "\t  TRUE & FALSE &  98\\\\\n",
       "\t  TRUE &  TRUE & 860\\\\\n",
       "\\end{tabular}\n"
      ],
      "text/markdown": [
       "\n",
       "A data.frame: 3 × 3\n",
       "\n",
       "| clinical &lt;lgl&gt; | expression &lt;lgl&gt; | n &lt;int&gt; |\n",
       "|---|---|---|\n",
       "| FALSE |  TRUE |   1 |\n",
       "|  TRUE | FALSE |  98 |\n",
       "|  TRUE |  TRUE | 860 |\n",
       "\n"
      ],
      "text/plain": [
       "  clinical expression n  \n",
       "1 FALSE     TRUE        1\n",
       "2  TRUE    FALSE       98\n",
       "3  TRUE     TRUE      860"
      ]
     },
     "metadata": {},
     "output_type": "display_data"
    }
   ],
   "source": [
    "clinical_brains <- paste0('Br',clinical$`Br#`)\n",
    "expression_brains <- colData(rse_gene)$BrNum\n",
    "\n",
    "data.frame(brain=union(clinical_brains, expression_brains)) %>% \n",
    "mutate(clinical = brain %in% clinical_brains,\n",
    "       expression = brain %in% expression_brains) %>% \n",
    "count(clinical, expression)"
   ]
  },
  {
   "cell_type": "code",
   "execution_count": 123,
   "metadata": {
    "vscode": {
     "languageId": "r"
    }
   },
   "outputs": [
    {
     "data": {
      "text/html": [
       "<style>\n",
       ".list-inline {list-style: none; margin:0; padding: 0}\n",
       ".list-inline>li {display: inline-block}\n",
       ".list-inline>li:not(:last-child)::after {content: \"\\00b7\"; padding: 0 .5ex}\n",
       "</style>\n",
       "<ol class=list-inline><li>'SAMPLE_ID'</li><li>'RNum'</li><li>'RIN'</li><li>'Region'</li><li>'Dataset'</li><li>'BrNum'</li><li>'Dx'</li><li>'Age'</li><li>'Sex'</li><li>'Race'</li><li>'Protocol'</li><li>'numReads'</li><li>'numMapped'</li><li>'numUnmapped'</li><li>'mitoMapped'</li><li>'totalMapped'</li><li>'overallMapRate'</li><li>'concordMapRate'</li><li>'mitoRate'</li><li>'rRNA_rate'</li><li>'totalAssignedGene'</li><li>'bamFile'</li></ol>\n"
      ],
      "text/latex": [
       "\\begin{enumerate*}\n",
       "\\item 'SAMPLE\\_ID'\n",
       "\\item 'RNum'\n",
       "\\item 'RIN'\n",
       "\\item 'Region'\n",
       "\\item 'Dataset'\n",
       "\\item 'BrNum'\n",
       "\\item 'Dx'\n",
       "\\item 'Age'\n",
       "\\item 'Sex'\n",
       "\\item 'Race'\n",
       "\\item 'Protocol'\n",
       "\\item 'numReads'\n",
       "\\item 'numMapped'\n",
       "\\item 'numUnmapped'\n",
       "\\item 'mitoMapped'\n",
       "\\item 'totalMapped'\n",
       "\\item 'overallMapRate'\n",
       "\\item 'concordMapRate'\n",
       "\\item 'mitoRate'\n",
       "\\item 'rRNA\\_rate'\n",
       "\\item 'totalAssignedGene'\n",
       "\\item 'bamFile'\n",
       "\\end{enumerate*}\n"
      ],
      "text/markdown": [
       "1. 'SAMPLE_ID'\n",
       "2. 'RNum'\n",
       "3. 'RIN'\n",
       "4. 'Region'\n",
       "5. 'Dataset'\n",
       "6. 'BrNum'\n",
       "7. 'Dx'\n",
       "8. 'Age'\n",
       "9. 'Sex'\n",
       "10. 'Race'\n",
       "11. 'Protocol'\n",
       "12. 'numReads'\n",
       "13. 'numMapped'\n",
       "14. 'numUnmapped'\n",
       "15. 'mitoMapped'\n",
       "16. 'totalMapped'\n",
       "17. 'overallMapRate'\n",
       "18. 'concordMapRate'\n",
       "19. 'mitoRate'\n",
       "20. 'rRNA_rate'\n",
       "21. 'totalAssignedGene'\n",
       "22. 'bamFile'\n",
       "\n",
       "\n"
      ],
      "text/plain": [
       " [1] \"SAMPLE_ID\"         \"RNum\"              \"RIN\"              \n",
       " [4] \"Region\"            \"Dataset\"           \"BrNum\"            \n",
       " [7] \"Dx\"                \"Age\"               \"Sex\"              \n",
       "[10] \"Race\"              \"Protocol\"          \"numReads\"         \n",
       "[13] \"numMapped\"         \"numUnmapped\"       \"mitoMapped\"       \n",
       "[16] \"totalMapped\"       \"overallMapRate\"    \"concordMapRate\"   \n",
       "[19] \"mitoRate\"          \"rRNA_rate\"         \"totalAssignedGene\"\n",
       "[22] \"bamFile\"          "
      ]
     },
     "metadata": {},
     "output_type": "display_data"
    }
   ],
   "source": [
    "rse_gene %>% colData %>% colnames"
   ]
  },
  {
   "attachments": {},
   "cell_type": "markdown",
   "metadata": {},
   "source": [
    "Downloadable Phase1 data (has some clinical data)"
   ]
  },
  {
   "cell_type": "code",
   "execution_count": 111,
   "metadata": {
    "vscode": {
     "languageId": "r"
    }
   },
   "outputs": [],
   "source": [
    "load(\"../data/rse_gene_BrainSeq_Phase1_hg19_TopHat2_EnsemblV75.rda\")\n",
    "# tx <- load(\"../data/transcript_data_filtered_n495.rda\")"
   ]
  },
  {
   "cell_type": "code",
   "execution_count": 112,
   "metadata": {
    "vscode": {
     "languageId": "r"
    }
   },
   "outputs": [
    {
     "data": {
      "text/html": [
       "<table class=\"dataframe\">\n",
       "<caption>A grouped_df: 2 × 2</caption>\n",
       "<thead>\n",
       "\t<tr><th scope=col>Dx</th><th scope=col>n</th></tr>\n",
       "\t<tr><th scope=col>&lt;chr&gt;</th><th scope=col>&lt;int&gt;</th></tr>\n",
       "</thead>\n",
       "<tbody>\n",
       "\t<tr><td>Control</td><td>320</td></tr>\n",
       "\t<tr><td>Schizo </td><td>175</td></tr>\n",
       "</tbody>\n",
       "</table>\n"
      ],
      "text/latex": [
       "A grouped\\_df: 2 × 2\n",
       "\\begin{tabular}{ll}\n",
       " Dx & n\\\\\n",
       " <chr> & <int>\\\\\n",
       "\\hline\n",
       "\t Control & 320\\\\\n",
       "\t Schizo  & 175\\\\\n",
       "\\end{tabular}\n"
      ],
      "text/markdown": [
       "\n",
       "A grouped_df: 2 × 2\n",
       "\n",
       "| Dx &lt;chr&gt; | n &lt;int&gt; |\n",
       "|---|---|\n",
       "| Control | 320 |\n",
       "| Schizo  | 175 |\n",
       "\n"
      ],
      "text/plain": [
       "  Dx      n  \n",
       "1 Control 320\n",
       "2 Schizo  175"
      ]
     },
     "metadata": {},
     "output_type": "display_data"
    }
   ],
   "source": [
    "colData(rse_gene) %>% data.frame %>% group_by(Dx) %>% count()"
   ]
  },
  {
   "cell_type": "code",
   "execution_count": 90,
   "metadata": {
    "vscode": {
     "languageId": "r"
    }
   },
   "outputs": [
    {
     "data": {
      "text/html": [
       "<style>\n",
       ".list-inline {list-style: none; margin:0; padding: 0}\n",
       ".list-inline>li {display: inline-block}\n",
       ".list-inline>li:not(:last-child)::after {content: \"\\00b7\"; padding: 0 .5ex}\n",
       "</style>\n",
       "<ol class=list-inline><li>188578</li><li>495</li></ol>\n"
      ],
      "text/latex": [
       "\\begin{enumerate*}\n",
       "\\item 188578\n",
       "\\item 495\n",
       "\\end{enumerate*}\n"
      ],
      "text/markdown": [
       "1. 188578\n",
       "2. 495\n",
       "\n",
       "\n"
      ],
      "text/plain": [
       "[1] 188578    495"
      ]
     },
     "metadata": {},
     "output_type": "display_data"
    }
   ],
   "source": [
    "tFpkm %>% dim"
   ]
  },
  {
   "attachments": {},
   "cell_type": "markdown",
   "metadata": {},
   "source": [
    "Downloadable Phase2 data"
   ]
  },
  {
   "cell_type": "code",
   "execution_count": 50,
   "metadata": {
    "vscode": {
     "languageId": "r"
    }
   },
   "outputs": [],
   "source": [
    "load(\"../data/rse_gene_unfiltered.Rdata\")\n",
    "load(\"../data/rse_tx_unfiltered.Rdata\")"
   ]
  },
  {
   "cell_type": "code",
   "execution_count": 51,
   "metadata": {
    "vscode": {
     "languageId": "r"
    }
   },
   "outputs": [
    {
     "data": {
      "text/html": [
       "<table class=\"dataframe\">\n",
       "<caption>A grouped_df: 4 × 3</caption>\n",
       "<thead>\n",
       "\t<tr><th scope=col>Region</th><th scope=col>Dx</th><th scope=col>n</th></tr>\n",
       "\t<tr><th scope=col>&lt;chr&gt;</th><th scope=col>&lt;chr&gt;</th><th scope=col>&lt;int&gt;</th></tr>\n",
       "</thead>\n",
       "<tbody>\n",
       "\t<tr><td>DLPFC</td><td>Control</td><td>300</td></tr>\n",
       "\t<tr><td>DLPFC</td><td>Schizo </td><td>153</td></tr>\n",
       "\t<tr><td>HIPPO</td><td>Control</td><td>314</td></tr>\n",
       "\t<tr><td>HIPPO</td><td>Schizo </td><td>133</td></tr>\n",
       "</tbody>\n",
       "</table>\n"
      ],
      "text/latex": [
       "A grouped\\_df: 4 × 3\n",
       "\\begin{tabular}{lll}\n",
       " Region & Dx & n\\\\\n",
       " <chr> & <chr> & <int>\\\\\n",
       "\\hline\n",
       "\t DLPFC & Control & 300\\\\\n",
       "\t DLPFC & Schizo  & 153\\\\\n",
       "\t HIPPO & Control & 314\\\\\n",
       "\t HIPPO & Schizo  & 133\\\\\n",
       "\\end{tabular}\n"
      ],
      "text/markdown": [
       "\n",
       "A grouped_df: 4 × 3\n",
       "\n",
       "| Region &lt;chr&gt; | Dx &lt;chr&gt; | n &lt;int&gt; |\n",
       "|---|---|---|\n",
       "| DLPFC | Control | 300 |\n",
       "| DLPFC | Schizo  | 153 |\n",
       "| HIPPO | Control | 314 |\n",
       "| HIPPO | Schizo  | 133 |\n",
       "\n"
      ],
      "text/plain": [
       "  Region Dx      n  \n",
       "1 DLPFC  Control 300\n",
       "2 DLPFC  Schizo  153\n",
       "3 HIPPO  Control 314\n",
       "4 HIPPO  Schizo  133"
      ]
     },
     "metadata": {},
     "output_type": "display_data"
    }
   ],
   "source": [
    "colData(rse_gene) %>% data.frame %>% group_by(Region,Dx) %>% count"
   ]
  },
  {
   "cell_type": "code",
   "execution_count": 5,
   "metadata": {
    "vscode": {
     "languageId": "r"
    }
   },
   "outputs": [],
   "source": [
    "load(\"../data/methprop_pd.Rdata\")"
   ]
  },
  {
   "cell_type": "code",
   "execution_count": 21,
   "metadata": {
    "vscode": {
     "languageId": "r"
    }
   },
   "outputs": [
    {
     "data": {
      "text/html": [
       "<style>\n",
       ".list-inline {list-style: none; margin:0; padding: 0}\n",
       ".list-inline>li {display: inline-block}\n",
       ".list-inline>li:not(:last-child)::after {content: \"\\00b7\"; padding: 0 .5ex}\n",
       "</style>\n",
       "<ol class=list-inline><li>'SAMPLE_ID'</li><li>'FQCbasicStats'</li><li>'perBaseQual'</li><li>'perTileQual'</li><li>'perSeqQual'</li><li>'perBaseContent'</li><li>'GCcontent'</li><li>'Ncontent'</li><li>'SeqLengthDist'</li><li>'SeqDuplication'</li><li>'OverrepSeqs'</li><li>'AdapterContent'</li><li>'KmerContent'</li><li>'percentGC_R1'</li><li>'phred100_R1'</li><li>'phredGT30_R1'</li><li>'phredGT35_R1'</li><li>'Adapter88_R1'</li><li>'percentGC_R2'</li><li>'phred100_R2'</li><li>'phredGT30_R2'</li><li>'phredGT35_R2'</li><li>'Adapter88_R2'</li><li>'ERCCsumLogErr'</li><li>'bamFile'</li><li>'trimmed'</li><li>'numReads'</li><li>'numMapped'</li><li>'numUnmapped'</li><li>'overallMapRate'</li><li>'concordMapRate'</li><li>'totalMapped'</li><li>'mitoMapped'</li><li>'mitoRate'</li><li>'totalAssignedGene'</li><li>'rRNA_rate'</li><li>'RNum'</li><li>'BrNum'</li><li>'Region'</li><li>'RIN'</li><li>'Age'</li><li>'Sex'</li><li>'Race'</li><li>'Dx'</li><li>'snpPC1'</li><li>'snpPC2'</li><li>'snpPC3'</li><li>'snpPC4'</li><li>'snpPC5'</li><li>'snpPC6'</li><li>'snpPC7'</li><li>'snpPC8'</li><li>'snpPC9'</li><li>'snpPC10'</li><li>'ageGroup'</li><li>'ageStage'</li><li>'Fetal_replicating'</li><li>'Fetal_quiescent'</li><li>'OPC'</li><li>'Neurons'</li><li>'Astrocytes'</li><li>'Oligodendrocytes'</li><li>'Microglia'</li><li>'Endothelial'</li><li>'fetal'</li><li>'birth'</li><li>'infant'</li><li>'child'</li><li>'teen'</li><li>'adult'</li><li>'mean_mitoRate'</li><li>'mean_totalAssignedGene'</li><li>'mean_RIN'</li></ol>\n"
      ],
      "text/latex": [
       "\\begin{enumerate*}\n",
       "\\item 'SAMPLE\\_ID'\n",
       "\\item 'FQCbasicStats'\n",
       "\\item 'perBaseQual'\n",
       "\\item 'perTileQual'\n",
       "\\item 'perSeqQual'\n",
       "\\item 'perBaseContent'\n",
       "\\item 'GCcontent'\n",
       "\\item 'Ncontent'\n",
       "\\item 'SeqLengthDist'\n",
       "\\item 'SeqDuplication'\n",
       "\\item 'OverrepSeqs'\n",
       "\\item 'AdapterContent'\n",
       "\\item 'KmerContent'\n",
       "\\item 'percentGC\\_R1'\n",
       "\\item 'phred100\\_R1'\n",
       "\\item 'phredGT30\\_R1'\n",
       "\\item 'phredGT35\\_R1'\n",
       "\\item 'Adapter88\\_R1'\n",
       "\\item 'percentGC\\_R2'\n",
       "\\item 'phred100\\_R2'\n",
       "\\item 'phredGT30\\_R2'\n",
       "\\item 'phredGT35\\_R2'\n",
       "\\item 'Adapter88\\_R2'\n",
       "\\item 'ERCCsumLogErr'\n",
       "\\item 'bamFile'\n",
       "\\item 'trimmed'\n",
       "\\item 'numReads'\n",
       "\\item 'numMapped'\n",
       "\\item 'numUnmapped'\n",
       "\\item 'overallMapRate'\n",
       "\\item 'concordMapRate'\n",
       "\\item 'totalMapped'\n",
       "\\item 'mitoMapped'\n",
       "\\item 'mitoRate'\n",
       "\\item 'totalAssignedGene'\n",
       "\\item 'rRNA\\_rate'\n",
       "\\item 'RNum'\n",
       "\\item 'BrNum'\n",
       "\\item 'Region'\n",
       "\\item 'RIN'\n",
       "\\item 'Age'\n",
       "\\item 'Sex'\n",
       "\\item 'Race'\n",
       "\\item 'Dx'\n",
       "\\item 'snpPC1'\n",
       "\\item 'snpPC2'\n",
       "\\item 'snpPC3'\n",
       "\\item 'snpPC4'\n",
       "\\item 'snpPC5'\n",
       "\\item 'snpPC6'\n",
       "\\item 'snpPC7'\n",
       "\\item 'snpPC8'\n",
       "\\item 'snpPC9'\n",
       "\\item 'snpPC10'\n",
       "\\item 'ageGroup'\n",
       "\\item 'ageStage'\n",
       "\\item 'Fetal\\_replicating'\n",
       "\\item 'Fetal\\_quiescent'\n",
       "\\item 'OPC'\n",
       "\\item 'Neurons'\n",
       "\\item 'Astrocytes'\n",
       "\\item 'Oligodendrocytes'\n",
       "\\item 'Microglia'\n",
       "\\item 'Endothelial'\n",
       "\\item 'fetal'\n",
       "\\item 'birth'\n",
       "\\item 'infant'\n",
       "\\item 'child'\n",
       "\\item 'teen'\n",
       "\\item 'adult'\n",
       "\\item 'mean\\_mitoRate'\n",
       "\\item 'mean\\_totalAssignedGene'\n",
       "\\item 'mean\\_RIN'\n",
       "\\end{enumerate*}\n"
      ],
      "text/markdown": [
       "1. 'SAMPLE_ID'\n",
       "2. 'FQCbasicStats'\n",
       "3. 'perBaseQual'\n",
       "4. 'perTileQual'\n",
       "5. 'perSeqQual'\n",
       "6. 'perBaseContent'\n",
       "7. 'GCcontent'\n",
       "8. 'Ncontent'\n",
       "9. 'SeqLengthDist'\n",
       "10. 'SeqDuplication'\n",
       "11. 'OverrepSeqs'\n",
       "12. 'AdapterContent'\n",
       "13. 'KmerContent'\n",
       "14. 'percentGC_R1'\n",
       "15. 'phred100_R1'\n",
       "16. 'phredGT30_R1'\n",
       "17. 'phredGT35_R1'\n",
       "18. 'Adapter88_R1'\n",
       "19. 'percentGC_R2'\n",
       "20. 'phred100_R2'\n",
       "21. 'phredGT30_R2'\n",
       "22. 'phredGT35_R2'\n",
       "23. 'Adapter88_R2'\n",
       "24. 'ERCCsumLogErr'\n",
       "25. 'bamFile'\n",
       "26. 'trimmed'\n",
       "27. 'numReads'\n",
       "28. 'numMapped'\n",
       "29. 'numUnmapped'\n",
       "30. 'overallMapRate'\n",
       "31. 'concordMapRate'\n",
       "32. 'totalMapped'\n",
       "33. 'mitoMapped'\n",
       "34. 'mitoRate'\n",
       "35. 'totalAssignedGene'\n",
       "36. 'rRNA_rate'\n",
       "37. 'RNum'\n",
       "38. 'BrNum'\n",
       "39. 'Region'\n",
       "40. 'RIN'\n",
       "41. 'Age'\n",
       "42. 'Sex'\n",
       "43. 'Race'\n",
       "44. 'Dx'\n",
       "45. 'snpPC1'\n",
       "46. 'snpPC2'\n",
       "47. 'snpPC3'\n",
       "48. 'snpPC4'\n",
       "49. 'snpPC5'\n",
       "50. 'snpPC6'\n",
       "51. 'snpPC7'\n",
       "52. 'snpPC8'\n",
       "53. 'snpPC9'\n",
       "54. 'snpPC10'\n",
       "55. 'ageGroup'\n",
       "56. 'ageStage'\n",
       "57. 'Fetal_replicating'\n",
       "58. 'Fetal_quiescent'\n",
       "59. 'OPC'\n",
       "60. 'Neurons'\n",
       "61. 'Astrocytes'\n",
       "62. 'Oligodendrocytes'\n",
       "63. 'Microglia'\n",
       "64. 'Endothelial'\n",
       "65. 'fetal'\n",
       "66. 'birth'\n",
       "67. 'infant'\n",
       "68. 'child'\n",
       "69. 'teen'\n",
       "70. 'adult'\n",
       "71. 'mean_mitoRate'\n",
       "72. 'mean_totalAssignedGene'\n",
       "73. 'mean_RIN'\n",
       "\n",
       "\n"
      ],
      "text/plain": [
       " [1] \"SAMPLE_ID\"              \"FQCbasicStats\"          \"perBaseQual\"           \n",
       " [4] \"perTileQual\"            \"perSeqQual\"             \"perBaseContent\"        \n",
       " [7] \"GCcontent\"              \"Ncontent\"               \"SeqLengthDist\"         \n",
       "[10] \"SeqDuplication\"         \"OverrepSeqs\"            \"AdapterContent\"        \n",
       "[13] \"KmerContent\"            \"percentGC_R1\"           \"phred100_R1\"           \n",
       "[16] \"phredGT30_R1\"           \"phredGT35_R1\"           \"Adapter88_R1\"          \n",
       "[19] \"percentGC_R2\"           \"phred100_R2\"            \"phredGT30_R2\"          \n",
       "[22] \"phredGT35_R2\"           \"Adapter88_R2\"           \"ERCCsumLogErr\"         \n",
       "[25] \"bamFile\"                \"trimmed\"                \"numReads\"              \n",
       "[28] \"numMapped\"              \"numUnmapped\"            \"overallMapRate\"        \n",
       "[31] \"concordMapRate\"         \"totalMapped\"            \"mitoMapped\"            \n",
       "[34] \"mitoRate\"               \"totalAssignedGene\"      \"rRNA_rate\"             \n",
       "[37] \"RNum\"                   \"BrNum\"                  \"Region\"                \n",
       "[40] \"RIN\"                    \"Age\"                    \"Sex\"                   \n",
       "[43] \"Race\"                   \"Dx\"                     \"snpPC1\"                \n",
       "[46] \"snpPC2\"                 \"snpPC3\"                 \"snpPC4\"                \n",
       "[49] \"snpPC5\"                 \"snpPC6\"                 \"snpPC7\"                \n",
       "[52] \"snpPC8\"                 \"snpPC9\"                 \"snpPC10\"               \n",
       "[55] \"ageGroup\"               \"ageStage\"               \"Fetal_replicating\"     \n",
       "[58] \"Fetal_quiescent\"        \"OPC\"                    \"Neurons\"               \n",
       "[61] \"Astrocytes\"             \"Oligodendrocytes\"       \"Microglia\"             \n",
       "[64] \"Endothelial\"            \"fetal\"                  \"birth\"                 \n",
       "[67] \"infant\"                 \"child\"                  \"teen\"                  \n",
       "[70] \"adult\"                  \"mean_mitoRate\"          \"mean_totalAssignedGene\"\n",
       "[73] \"mean_RIN\"              "
      ]
     },
     "metadata": {},
     "output_type": "display_data"
    }
   ],
   "source": [
    "pd %>% data.frame %>% colnames"
   ]
  },
  {
   "attachments": {},
   "cell_type": "markdown",
   "metadata": {},
   "source": [
    "## Clean data and save"
   ]
  },
  {
   "attachments": {},
   "cell_type": "markdown",
   "metadata": {},
   "source": [
    "### Using received data"
   ]
  },
  {
   "cell_type": "code",
   "execution_count": null,
   "metadata": {
    "vscode": {
     "languageId": "r"
    }
   },
   "outputs": [],
   "source": [
    "load(\"../data/rse_gene_BrainSeq_phases_1_2.n1627.Rdata\")\n",
    "colData(rse_gene) %>% data.frame %>% group_by(Dataset,Dx) %>% count()"
   ]
  },
  {
   "cell_type": "code",
   "execution_count": 124,
   "metadata": {
    "vscode": {
     "languageId": "r"
    }
   },
   "outputs": [
    {
     "data": {
      "text/html": [
       "<style>\n",
       ".list-inline {list-style: none; margin:0; padding: 0}\n",
       ".list-inline>li {display: inline-block}\n",
       ".list-inline>li:not(:last-child)::after {content: \"\\00b7\"; padding: 0 .5ex}\n",
       "</style>\n",
       "<ol class=list-inline><li>'SAMPLE_ID'</li><li>'RNum'</li><li>'RIN'</li><li>'Region'</li><li>'Dataset'</li><li>'BrNum'</li><li>'Dx'</li><li>'Age'</li><li>'Sex'</li><li>'Race'</li><li>'Protocol'</li><li>'numReads'</li><li>'numMapped'</li><li>'numUnmapped'</li><li>'mitoMapped'</li><li>'totalMapped'</li><li>'overallMapRate'</li><li>'concordMapRate'</li><li>'mitoRate'</li><li>'rRNA_rate'</li><li>'totalAssignedGene'</li><li>'bamFile'</li></ol>\n"
      ],
      "text/latex": [
       "\\begin{enumerate*}\n",
       "\\item 'SAMPLE\\_ID'\n",
       "\\item 'RNum'\n",
       "\\item 'RIN'\n",
       "\\item 'Region'\n",
       "\\item 'Dataset'\n",
       "\\item 'BrNum'\n",
       "\\item 'Dx'\n",
       "\\item 'Age'\n",
       "\\item 'Sex'\n",
       "\\item 'Race'\n",
       "\\item 'Protocol'\n",
       "\\item 'numReads'\n",
       "\\item 'numMapped'\n",
       "\\item 'numUnmapped'\n",
       "\\item 'mitoMapped'\n",
       "\\item 'totalMapped'\n",
       "\\item 'overallMapRate'\n",
       "\\item 'concordMapRate'\n",
       "\\item 'mitoRate'\n",
       "\\item 'rRNA\\_rate'\n",
       "\\item 'totalAssignedGene'\n",
       "\\item 'bamFile'\n",
       "\\end{enumerate*}\n"
      ],
      "text/markdown": [
       "1. 'SAMPLE_ID'\n",
       "2. 'RNum'\n",
       "3. 'RIN'\n",
       "4. 'Region'\n",
       "5. 'Dataset'\n",
       "6. 'BrNum'\n",
       "7. 'Dx'\n",
       "8. 'Age'\n",
       "9. 'Sex'\n",
       "10. 'Race'\n",
       "11. 'Protocol'\n",
       "12. 'numReads'\n",
       "13. 'numMapped'\n",
       "14. 'numUnmapped'\n",
       "15. 'mitoMapped'\n",
       "16. 'totalMapped'\n",
       "17. 'overallMapRate'\n",
       "18. 'concordMapRate'\n",
       "19. 'mitoRate'\n",
       "20. 'rRNA_rate'\n",
       "21. 'totalAssignedGene'\n",
       "22. 'bamFile'\n",
       "\n",
       "\n"
      ],
      "text/plain": [
       " [1] \"SAMPLE_ID\"         \"RNum\"              \"RIN\"              \n",
       " [4] \"Region\"            \"Dataset\"           \"BrNum\"            \n",
       " [7] \"Dx\"                \"Age\"               \"Sex\"              \n",
       "[10] \"Race\"              \"Protocol\"          \"numReads\"         \n",
       "[13] \"numMapped\"         \"numUnmapped\"       \"mitoMapped\"       \n",
       "[16] \"totalMapped\"       \"overallMapRate\"    \"concordMapRate\"   \n",
       "[19] \"mitoRate\"          \"rRNA_rate\"         \"totalAssignedGene\"\n",
       "[22] \"bamFile\"          "
      ]
     },
     "metadata": {},
     "output_type": "display_data"
    }
   ],
   "source": [
    "rse_gene %>% colData %>% colnames"
   ]
  },
  {
   "cell_type": "code",
   "execution_count": 139,
   "metadata": {
    "vscode": {
     "languageId": "r"
    }
   },
   "outputs": [
    {
     "data": {
      "text/html": [
       "<table class=\"dataframe\">\n",
       "<caption>A grouped_df: 3 × 2</caption>\n",
       "<thead>\n",
       "\t<tr><th scope=col>Dataset</th><th scope=col>n</th></tr>\n",
       "\t<tr><th scope=col>&lt;chr&gt;</th><th scope=col>&lt;int&gt;</th></tr>\n",
       "</thead>\n",
       "<tbody>\n",
       "\t<tr><td>BrainSeq_Phase1      </td><td>727</td></tr>\n",
       "\t<tr><td>BrainSeq_Phase2_DLPFC</td><td>453</td></tr>\n",
       "\t<tr><td>BrainSeq_Phase2_HIPPO</td><td>447</td></tr>\n",
       "</tbody>\n",
       "</table>\n"
      ],
      "text/latex": [
       "A grouped\\_df: 3 × 2\n",
       "\\begin{tabular}{ll}\n",
       " Dataset & n\\\\\n",
       " <chr> & <int>\\\\\n",
       "\\hline\n",
       "\t BrainSeq\\_Phase1       & 727\\\\\n",
       "\t BrainSeq\\_Phase2\\_DLPFC & 453\\\\\n",
       "\t BrainSeq\\_Phase2\\_HIPPO & 447\\\\\n",
       "\\end{tabular}\n"
      ],
      "text/markdown": [
       "\n",
       "A grouped_df: 3 × 2\n",
       "\n",
       "| Dataset &lt;chr&gt; | n &lt;int&gt; |\n",
       "|---|---|\n",
       "| BrainSeq_Phase1       | 727 |\n",
       "| BrainSeq_Phase2_DLPFC | 453 |\n",
       "| BrainSeq_Phase2_HIPPO | 447 |\n",
       "\n"
      ],
      "text/plain": [
       "  Dataset               n  \n",
       "1 BrainSeq_Phase1       727\n",
       "2 BrainSeq_Phase2_DLPFC 453\n",
       "3 BrainSeq_Phase2_HIPPO 447"
      ]
     },
     "metadata": {},
     "output_type": "display_data"
    }
   ],
   "source": [
    "rse_gene %>% colData %>% data.frame %>% group_by(Dataset) %>% count()"
   ]
  },
  {
   "cell_type": "code",
   "execution_count": 142,
   "metadata": {
    "vscode": {
     "languageId": "r"
    }
   },
   "outputs": [],
   "source": [
    "rse_gene_filter <- rse_gene %>% \n",
    "    subset(\n",
    "        select = \n",
    "            # (Dx %in% c('SCZD')) & \n",
    "            (Dataset %in% c('BrainSeq_Phase2_DLPFC')) &\n",
    "            (Age >= 13) & (Age <= 150)\n",
    "    )"
   ]
  },
  {
   "cell_type": "code",
   "execution_count": 144,
   "metadata": {
    "vscode": {
     "languageId": "r"
    }
   },
   "outputs": [
    {
     "name": "stderr",
     "output_type": "stream",
     "text": [
      "converting counts to integer mode\n",
      "\n",
      "Warning message in recycleSingleBracketReplacementValue(value, x, nsbs):\n",
      "“number of values supplied is not a sub-multiple of the number of values to be replaced”\n"
     ]
    }
   ],
   "source": [
    "library(DESeq2)\n",
    "assays(rse_gene_filter)['vst'] <- varianceStabilizingTransformation(assay(rse_gene_filter))"
   ]
  },
  {
   "cell_type": "code",
   "execution_count": null,
   "metadata": {
    "vscode": {
     "languageId": "r"
    }
   },
   "outputs": [],
   "source": [
    "assays(rse_gene)['vst'] %>% \n",
    "data.frame %>% rownames_to_column('ensembl_id') %>% \n",
    "write_csv('../outputs/exp_SCZ.csv')"
   ]
  },
  {
   "attachments": {},
   "cell_type": "markdown",
   "metadata": {},
   "source": [
    "### Using public data"
   ]
  },
  {
   "cell_type": "code",
   "execution_count": 55,
   "metadata": {
    "vscode": {
     "languageId": "r"
    }
   },
   "outputs": [
    {
     "name": "stdout",
     "output_type": "stream",
     "text": [
      "Merged data from multi-lane samples.\n",
      "Selected 254 of 900 samples.\n",
      "Removed 6 outliers from 248 samples.\n",
      "Filtered 37223 of 58037 genes.\n",
      "Added cell proportion estimates from BRETIGEA.\n",
      "Normalised logRPKM quantiles using preprocessCore.\n"
     ]
    }
   ],
   "source": [
    "rse_merge_vars <- rse_gene %>% merge_covariates\n",
    "rse_select_samples <- rse_merge_vars %>% select_samples(diagnosis=c('Schizo'))\n",
    "rse_clean_samples <- rse_select_samples %>% clean_outlier_samples\n",
    "rse_clean_genes <- rse_clean_samples %>% clean_genes\n",
    "rse_cell_proportions <- rse_clean_genes %>% get_cell_proportions\n",
    "rse_norm_samples <- rse_cell_proportions %>% normalise_samples"
   ]
  },
  {
   "cell_type": "code",
   "execution_count": 59,
   "metadata": {
    "vscode": {
     "languageId": "r"
    }
   },
   "outputs": [
    {
     "data": {
      "text/html": [
       "<style>\n",
       ".list-inline {list-style: none; margin:0; padding: 0}\n",
       ".list-inline>li {display: inline-block}\n",
       ".list-inline>li:not(:last-child)::after {content: \"\\00b7\"; padding: 0 .5ex}\n",
       "</style>\n",
       "<ol class=list-inline><li>'SAMPLE_ID'</li><li>'FQCbasicStats'</li><li>'perBaseQual'</li><li>'perTileQual'</li><li>'perSeqQual'</li><li>'perBaseContent'</li><li>'GCcontent'</li><li>'Ncontent'</li><li>'SeqLengthDist'</li><li>'SeqDuplication'</li><li>'OverrepSeqs'</li><li>'AdapterContent'</li><li>'KmerContent'</li><li>'percentGC_R1'</li><li>'phred100_R1'</li><li>'phredGT30_R1'</li><li>'phredGT35_R1'</li><li>'Adapter88_R1'</li><li>'percentGC_R2'</li><li>'phred100_R2'</li><li>'phredGT30_R2'</li><li>'phredGT35_R2'</li><li>'Adapter88_R2'</li><li>'ERCCsumLogErr'</li><li>'bamFile'</li><li>'trimmed'</li><li>'numReads'</li><li>'numMapped'</li><li>'numUnmapped'</li><li>'overallMapRate'</li><li>'concordMapRate'</li><li>'totalMapped'</li><li>'mitoMapped'</li><li>'mitoRate'</li><li>'totalAssignedGene'</li><li>'rRNA_rate'</li><li>'RNum'</li><li>'BrNum'</li><li>'Region'</li><li>'RIN'</li><li>'Age'</li><li>'Sex'</li><li>'Race'</li><li>'Dx'</li><li>'snpPC1'</li><li>'snpPC2'</li><li>'snpPC3'</li><li>'snpPC4'</li><li>'snpPC5'</li><li>'snpPC6'</li><li>'snpPC7'</li><li>'snpPC8'</li><li>'snpPC9'</li><li>'snpPC10'</li><li>'ast'</li><li>'end'</li><li>'mic'</li><li>'neu'</li><li>'oli'</li><li>'opc'</li><li>'ast_unscaled'</li><li>'end_unscaled'</li><li>'mic_unscaled'</li><li>'neu_unscaled'</li><li>'oli_unscaled'</li><li>'opc_unscaled'</li></ol>\n"
      ],
      "text/latex": [
       "\\begin{enumerate*}\n",
       "\\item 'SAMPLE\\_ID'\n",
       "\\item 'FQCbasicStats'\n",
       "\\item 'perBaseQual'\n",
       "\\item 'perTileQual'\n",
       "\\item 'perSeqQual'\n",
       "\\item 'perBaseContent'\n",
       "\\item 'GCcontent'\n",
       "\\item 'Ncontent'\n",
       "\\item 'SeqLengthDist'\n",
       "\\item 'SeqDuplication'\n",
       "\\item 'OverrepSeqs'\n",
       "\\item 'AdapterContent'\n",
       "\\item 'KmerContent'\n",
       "\\item 'percentGC\\_R1'\n",
       "\\item 'phred100\\_R1'\n",
       "\\item 'phredGT30\\_R1'\n",
       "\\item 'phredGT35\\_R1'\n",
       "\\item 'Adapter88\\_R1'\n",
       "\\item 'percentGC\\_R2'\n",
       "\\item 'phred100\\_R2'\n",
       "\\item 'phredGT30\\_R2'\n",
       "\\item 'phredGT35\\_R2'\n",
       "\\item 'Adapter88\\_R2'\n",
       "\\item 'ERCCsumLogErr'\n",
       "\\item 'bamFile'\n",
       "\\item 'trimmed'\n",
       "\\item 'numReads'\n",
       "\\item 'numMapped'\n",
       "\\item 'numUnmapped'\n",
       "\\item 'overallMapRate'\n",
       "\\item 'concordMapRate'\n",
       "\\item 'totalMapped'\n",
       "\\item 'mitoMapped'\n",
       "\\item 'mitoRate'\n",
       "\\item 'totalAssignedGene'\n",
       "\\item 'rRNA\\_rate'\n",
       "\\item 'RNum'\n",
       "\\item 'BrNum'\n",
       "\\item 'Region'\n",
       "\\item 'RIN'\n",
       "\\item 'Age'\n",
       "\\item 'Sex'\n",
       "\\item 'Race'\n",
       "\\item 'Dx'\n",
       "\\item 'snpPC1'\n",
       "\\item 'snpPC2'\n",
       "\\item 'snpPC3'\n",
       "\\item 'snpPC4'\n",
       "\\item 'snpPC5'\n",
       "\\item 'snpPC6'\n",
       "\\item 'snpPC7'\n",
       "\\item 'snpPC8'\n",
       "\\item 'snpPC9'\n",
       "\\item 'snpPC10'\n",
       "\\item 'ast'\n",
       "\\item 'end'\n",
       "\\item 'mic'\n",
       "\\item 'neu'\n",
       "\\item 'oli'\n",
       "\\item 'opc'\n",
       "\\item 'ast\\_unscaled'\n",
       "\\item 'end\\_unscaled'\n",
       "\\item 'mic\\_unscaled'\n",
       "\\item 'neu\\_unscaled'\n",
       "\\item 'oli\\_unscaled'\n",
       "\\item 'opc\\_unscaled'\n",
       "\\end{enumerate*}\n"
      ],
      "text/markdown": [
       "1. 'SAMPLE_ID'\n",
       "2. 'FQCbasicStats'\n",
       "3. 'perBaseQual'\n",
       "4. 'perTileQual'\n",
       "5. 'perSeqQual'\n",
       "6. 'perBaseContent'\n",
       "7. 'GCcontent'\n",
       "8. 'Ncontent'\n",
       "9. 'SeqLengthDist'\n",
       "10. 'SeqDuplication'\n",
       "11. 'OverrepSeqs'\n",
       "12. 'AdapterContent'\n",
       "13. 'KmerContent'\n",
       "14. 'percentGC_R1'\n",
       "15. 'phred100_R1'\n",
       "16. 'phredGT30_R1'\n",
       "17. 'phredGT35_R1'\n",
       "18. 'Adapter88_R1'\n",
       "19. 'percentGC_R2'\n",
       "20. 'phred100_R2'\n",
       "21. 'phredGT30_R2'\n",
       "22. 'phredGT35_R2'\n",
       "23. 'Adapter88_R2'\n",
       "24. 'ERCCsumLogErr'\n",
       "25. 'bamFile'\n",
       "26. 'trimmed'\n",
       "27. 'numReads'\n",
       "28. 'numMapped'\n",
       "29. 'numUnmapped'\n",
       "30. 'overallMapRate'\n",
       "31. 'concordMapRate'\n",
       "32. 'totalMapped'\n",
       "33. 'mitoMapped'\n",
       "34. 'mitoRate'\n",
       "35. 'totalAssignedGene'\n",
       "36. 'rRNA_rate'\n",
       "37. 'RNum'\n",
       "38. 'BrNum'\n",
       "39. 'Region'\n",
       "40. 'RIN'\n",
       "41. 'Age'\n",
       "42. 'Sex'\n",
       "43. 'Race'\n",
       "44. 'Dx'\n",
       "45. 'snpPC1'\n",
       "46. 'snpPC2'\n",
       "47. 'snpPC3'\n",
       "48. 'snpPC4'\n",
       "49. 'snpPC5'\n",
       "50. 'snpPC6'\n",
       "51. 'snpPC7'\n",
       "52. 'snpPC8'\n",
       "53. 'snpPC9'\n",
       "54. 'snpPC10'\n",
       "55. 'ast'\n",
       "56. 'end'\n",
       "57. 'mic'\n",
       "58. 'neu'\n",
       "59. 'oli'\n",
       "60. 'opc'\n",
       "61. 'ast_unscaled'\n",
       "62. 'end_unscaled'\n",
       "63. 'mic_unscaled'\n",
       "64. 'neu_unscaled'\n",
       "65. 'oli_unscaled'\n",
       "66. 'opc_unscaled'\n",
       "\n",
       "\n"
      ],
      "text/plain": [
       " [1] \"SAMPLE_ID\"         \"FQCbasicStats\"     \"perBaseQual\"      \n",
       " [4] \"perTileQual\"       \"perSeqQual\"        \"perBaseContent\"   \n",
       " [7] \"GCcontent\"         \"Ncontent\"          \"SeqLengthDist\"    \n",
       "[10] \"SeqDuplication\"    \"OverrepSeqs\"       \"AdapterContent\"   \n",
       "[13] \"KmerContent\"       \"percentGC_R1\"      \"phred100_R1\"      \n",
       "[16] \"phredGT30_R1\"      \"phredGT35_R1\"      \"Adapter88_R1\"     \n",
       "[19] \"percentGC_R2\"      \"phred100_R2\"       \"phredGT30_R2\"     \n",
       "[22] \"phredGT35_R2\"      \"Adapter88_R2\"      \"ERCCsumLogErr\"    \n",
       "[25] \"bamFile\"           \"trimmed\"           \"numReads\"         \n",
       "[28] \"numMapped\"         \"numUnmapped\"       \"overallMapRate\"   \n",
       "[31] \"concordMapRate\"    \"totalMapped\"       \"mitoMapped\"       \n",
       "[34] \"mitoRate\"          \"totalAssignedGene\" \"rRNA_rate\"        \n",
       "[37] \"RNum\"              \"BrNum\"             \"Region\"           \n",
       "[40] \"RIN\"               \"Age\"               \"Sex\"              \n",
       "[43] \"Race\"              \"Dx\"                \"snpPC1\"           \n",
       "[46] \"snpPC2\"            \"snpPC3\"            \"snpPC4\"           \n",
       "[49] \"snpPC5\"            \"snpPC6\"            \"snpPC7\"           \n",
       "[52] \"snpPC8\"            \"snpPC9\"            \"snpPC10\"          \n",
       "[55] \"ast\"               \"end\"               \"mic\"              \n",
       "[58] \"neu\"               \"oli\"               \"opc\"              \n",
       "[61] \"ast_unscaled\"      \"end_unscaled\"      \"mic_unscaled\"     \n",
       "[64] \"neu_unscaled\"      \"oli_unscaled\"      \"opc_unscaled\"     "
      ]
     },
     "metadata": {},
     "output_type": "display_data"
    }
   ],
   "source": [
    "rse_norm_samples %>% colData() %>% data.frame %>% colnames"
   ]
  },
  {
   "cell_type": "code",
   "execution_count": 80,
   "metadata": {
    "vscode": {
     "languageId": "r"
    }
   },
   "outputs": [
    {
     "name": "stdout",
     "output_type": "stream",
     "text": [
      "Merged data from multi-lane samples.\n",
      "Selected 341 of 900 samples.\n",
      "Removed 7 outliers leaving 334 samples.\n",
      "Filtered 36779 of 58037 genes.\n",
      "Added cell proportion estimates from BRETIGEA.\n",
      "Normalised logRPKM quantiles using preprocessCore.\n",
      "Regressing covariates...\n",
      "... matched gene & transcript samples\n",
      "... made qSVs\n",
      "... computed residuals\n",
      "Regressed covariates.\n",
      "Normalised genes by rank using RNOmni.\n"
     ]
    }
   ],
   "source": [
    "source(\"../code/preprocess.r\")\n",
    "rse_merge_vars <- rse_gene %>% merge_covariates\n",
    "rse_select_samples <- rse_merge_vars %>% select_samples(diagnosis=c('Control', 'Schizo'))\n",
    "rse_clean_samples <- rse_select_samples %>% clean_outlier_samples\n",
    "rse_clean_genes <- rse_clean_samples %>% clean_genes\n",
    "rse_cell_proportions <- rse_clean_genes %>% get_cell_proportions\n",
    "rse_norm_samples <- rse_cell_proportions %>% normalise_samples\n",
    "saveRDS(rse_norm_samples, \"../data/rse_norm_samples_CTLSCZ.rds\")\n",
    "\n",
    "formula <- \"~ Dx + Age + Sex + Race + mitoRate + rRNA_rate + totalAssignedGene + RIN +\n",
    "                         snpPC1 + snpPC2 + snpPC3 + snpPC4 + snpPC5 + \n",
    "                         snpPC6 + snpPC7 + snpPC8 + snpPC9 + snpPC10 +\n",
    "                         ast + end + mic + neu + oli + opc\n",
    "                         \"\n",
    "rse_regressed <- rse_norm_samples %>% \n",
    "    regress_covariates(rse_tx, formula = formula, n_qsvs = NULL, P=1)\n",
    "rse_norm_genes <- rse_regressed %>% normalise_genes\n",
    "\n",
    "saveRDS(rse_norm_genes, \"../outputs/rse_processed_CTL_SCZ_QSV.rds\")\n",
    "\n",
    "rse_QSV <- readRDS(\"../outputs/rse_processed_CTL_SCZ_QSV.rds\")\n"
   ]
  },
  {
   "cell_type": "code",
   "execution_count": 66,
   "metadata": {
    "vscode": {
     "languageId": "r"
    }
   },
   "outputs": [],
   "source": [
    "# rse_QSV_SCZ <- readRDS(\"../outputs/rse_processed_QSV_SCZ.rds\")\n",
    "assays(rse_QSV)[['ranknorm']] %>% t %>% magrittr::set_rownames(rse_QSV$BrNum) %>% \n",
    "data.frame %>% rownames_to_column('BrNum') %>% write_csv('../outputs/libd.csv')\n",
    "# data.frame %>% rownames_to_column('ensembl_id') %>% t\n",
    "\n",
    "# write_csv('../outputs/exp_SCZ.csv')"
   ]
  },
  {
   "cell_type": "code",
   "execution_count": null,
   "metadata": {
    "vscode": {
     "languageId": "r"
    }
   },
   "outputs": [],
   "source": [
    "test <- load(\"../data/methprop_pd.Rdata\")"
   ]
  },
  {
   "cell_type": "code",
   "execution_count": null,
   "metadata": {
    "vscode": {
     "languageId": "r"
    }
   },
   "outputs": [],
   "source": [
    "pd %>% data.frame %>% tibble %>% colnames"
   ]
  },
  {
   "attachments": {},
   "cell_type": "markdown",
   "metadata": {},
   "source": [
    "## PCA"
   ]
  },
  {
   "cell_type": "code",
   "execution_count": 67,
   "metadata": {
    "vscode": {
     "languageId": "r"
    }
   },
   "outputs": [],
   "source": [
    "rse_QSV <- readRDS(\"../outputs/rse_processed_CTL_SCZ_QSV.rds\")"
   ]
  },
  {
   "cell_type": "code",
   "execution_count": 82,
   "metadata": {
    "vscode": {
     "languageId": "r"
    }
   },
   "outputs": [],
   "source": [
    "exp <- assays(rse_QSV)[['ranknorm']]"
   ]
  },
  {
   "cell_type": "code",
   "execution_count": 86,
   "metadata": {
    "vscode": {
     "languageId": "r"
    }
   },
   "outputs": [],
   "source": [
    "pca <- exp %>% t %>% prcomp"
   ]
  },
  {
   "cell_type": "code",
   "execution_count": 109,
   "metadata": {
    "vscode": {
     "languageId": "r"
    }
   },
   "outputs": [
    {
     "data": {
      "text/plain": [
       "DataFrame with 111556 rows and 7 columns\n",
       "             PC1        PC2       RIN       Age         Sex        Race\n",
       "       <numeric>  <numeric> <numeric> <numeric> <character> <character>\n",
       "1       -62.4758    9.25154       6.7     64.08           M        CAUC\n",
       "2        10.8520   31.61884       6.7     64.08           M        CAUC\n",
       "3       -30.7977   31.14089       6.7     64.08           M        CAUC\n",
       "4        17.5558   44.12307       6.7     64.08           M        CAUC\n",
       "5       -13.5833  -17.71664       6.7     64.08           M        CAUC\n",
       "...          ...        ...       ...       ...         ...         ...\n",
       "111552  -19.2039 44.6744819       8.9   60.5629           M        CAUC\n",
       "111553   28.0671 24.5324788       8.9   60.5629           M        CAUC\n",
       "111554   14.7685  0.0226641       8.9   60.5629           M        CAUC\n",
       "111555  -13.3182 -7.4113561       8.9   60.5629           M        CAUC\n",
       "111556  -53.0257  4.1757255       8.9   60.5629           M        CAUC\n",
       "                Dx\n",
       "       <character>\n",
       "1          Control\n",
       "2          Control\n",
       "3          Control\n",
       "4          Control\n",
       "5          Control\n",
       "...            ...\n",
       "111552      Schizo\n",
       "111553      Schizo\n",
       "111554      Schizo\n",
       "111555      Schizo\n",
       "111556      Schizo"
      ]
     },
     "metadata": {},
     "output_type": "display_data"
    }
   ],
   "source": [
    "cols <- c('RIN','Age','Sex','Race','Dx')\n",
    "df <- pca$x[,1:2] %>% data.frame %>% merge(colData(rse_QSV)[,cols])"
   ]
  },
  {
   "cell_type": "code",
   "execution_count": 116,
   "metadata": {
    "vscode": {
     "languageId": "r"
    }
   },
   "outputs": [
    {
     "data": {
      "text/plain": [
       "Importance of components:\n",
       "                            PC1      PC2      PC3      PC4      PC5      PC6\n",
       "Standard deviation     23.76733 21.60692 19.75702 18.88862 18.59010 18.33406\n",
       "Proportion of Variance  0.02679  0.02214  0.01851  0.01692  0.01639  0.01594\n",
       "Cumulative Proportion   0.02679  0.04893  0.06744  0.08436  0.10075  0.11669\n",
       "                            PC7      PC8      PC9     PC10    PC11    PC12\n",
       "Standard deviation     17.65742 17.06664 16.45297 16.24690 15.7073 15.2304\n",
       "Proportion of Variance  0.01479  0.01381  0.01284  0.01252  0.0117  0.0110\n",
       "Cumulative Proportion   0.13148  0.14529  0.15813  0.17065  0.1824  0.1933\n",
       "                           PC13     PC14     PC15     PC16     PC17    PC18\n",
       "Standard deviation     14.88926 14.87510 14.24993 13.86195 13.59793 13.3905\n",
       "Proportion of Variance  0.01051  0.01049  0.00963  0.00911  0.00877  0.0085\n",
       "Cumulative Proportion   0.20387  0.21436  0.22399  0.23310  0.24187  0.2504\n",
       "                           PC19     PC20     PC21     PC22     PC23     PC24\n",
       "Standard deviation     13.32925 13.06442 12.88618 12.55502 12.37962 12.22618\n",
       "Proportion of Variance  0.00843  0.00809  0.00788  0.00748  0.00727  0.00709\n",
       "Cumulative Proportion   0.25880  0.26690  0.27477  0.28225  0.28952  0.29660\n",
       "                          PC25    PC26     PC27     PC28     PC29     PC30\n",
       "Standard deviation     11.9774 11.8008 11.64358 11.47322 11.42180 11.22254\n",
       "Proportion of Variance  0.0068  0.0066  0.00643  0.00624  0.00619  0.00597\n",
       "Cumulative Proportion   0.3034  0.3100  0.31644  0.32268  0.32887  0.33484\n",
       "                           PC31     PC32     PC33     PC34     PC35     PC36\n",
       "Standard deviation     11.05032 10.94136 10.87158 10.85362 10.69812 10.50542\n",
       "Proportion of Variance  0.00579  0.00568  0.00561  0.00559  0.00543  0.00523\n",
       "Cumulative Proportion   0.34064  0.34631  0.35192  0.35751  0.36293  0.36817\n",
       "                           PC37     PC38    PC39     PC40     PC41    PC42\n",
       "Standard deviation     10.45196 10.38573 10.2681 10.19451 10.03531 9.98874\n",
       "Proportion of Variance  0.00518  0.00512  0.0050  0.00493  0.00478 0.00473\n",
       "Cumulative Proportion   0.37335  0.37846  0.3835  0.38839  0.39317 0.39790\n",
       "                          PC43    PC44    PC45    PC46    PC47    PC48    PC49\n",
       "Standard deviation     9.86858 9.83311 9.69165 9.64148 9.62140 9.56390 9.47546\n",
       "Proportion of Variance 0.00462 0.00459 0.00445 0.00441 0.00439 0.00434 0.00426\n",
       "Cumulative Proportion  0.40252 0.40710 0.41156 0.41597 0.42036 0.42470 0.42895\n",
       "                         PC50    PC51    PC52    PC53    PC54    PC55    PC56\n",
       "Standard deviation     9.4120 9.39378 9.30785 9.24755 9.20464 9.17397 9.11631\n",
       "Proportion of Variance 0.0042 0.00418 0.00411 0.00406 0.00402 0.00399 0.00394\n",
       "Cumulative Proportion  0.4332 0.43734 0.44145 0.44550 0.44952 0.45351 0.45746\n",
       "                          PC57    PC58    PC59    PC60    PC61    PC62    PC63\n",
       "Standard deviation     9.08431 9.03047 8.98743 8.92377 8.90736 8.85514 8.79471\n",
       "Proportion of Variance 0.00391 0.00387 0.00383 0.00378 0.00376 0.00372 0.00367\n",
       "Cumulative Proportion  0.46137 0.46524 0.46907 0.47284 0.47661 0.48033 0.48399\n",
       "                          PC64   PC65    PC66    PC67   PC68    PC69    PC70\n",
       "Standard deviation     8.75667 8.7141 8.66820 8.62811 8.5964 8.55218 8.53013\n",
       "Proportion of Variance 0.00364 0.0036 0.00356 0.00353 0.0035 0.00347 0.00345\n",
       "Cumulative Proportion  0.48763 0.4912 0.49480 0.49833 0.5018 0.50530 0.50875\n",
       "                          PC71    PC72    PC73    PC74    PC75    PC76    PC77\n",
       "Standard deviation     8.49585 8.48789 8.44031 8.41888 8.40121 8.38746 8.33401\n",
       "Proportion of Variance 0.00342 0.00342 0.00338 0.00336 0.00335 0.00334 0.00329\n",
       "Cumulative Proportion  0.51217 0.51559 0.51897 0.52233 0.52568 0.52901 0.53231\n",
       "                          PC78    PC79    PC80   PC81   PC82    PC83    PC84\n",
       "Standard deviation     8.30348 8.26668 8.24479 8.2191 8.2092 8.18407 8.17501\n",
       "Proportion of Variance 0.00327 0.00324 0.00322 0.0032 0.0032 0.00318 0.00317\n",
       "Cumulative Proportion  0.53558 0.53882 0.54204 0.5453 0.5484 0.55162 0.55479\n",
       "                          PC85   PC86    PC87    PC88    PC89    PC90    PC91\n",
       "Standard deviation     8.12881 8.0900 8.07361 8.05736 8.05496 8.03928 8.02813\n",
       "Proportion of Variance 0.00313 0.0031 0.00309 0.00308 0.00308 0.00307 0.00306\n",
       "Cumulative Proportion  0.55792 0.5610 0.56412 0.56720 0.57027 0.57334 0.57639\n",
       "                          PC92    PC93    PC94   PC95    PC96    PC97    PC98\n",
       "Standard deviation     7.99991 7.97448 7.96793 7.9508 7.93457 7.91723 7.89840\n",
       "Proportion of Variance 0.00304 0.00302 0.00301 0.0030 0.00299 0.00297 0.00296\n",
       "Cumulative Proportion  0.57943 0.58245 0.58546 0.5885 0.59144 0.59441 0.59737\n",
       "                          PC99   PC100  PC101   PC102   PC103   PC104   PC105\n",
       "Standard deviation     7.86615 7.84314 7.8241 7.80358 7.78396 7.78019 7.76054\n",
       "Proportion of Variance 0.00293 0.00292 0.0029 0.00289 0.00287 0.00287 0.00286\n",
       "Cumulative Proportion  0.60031 0.60322 0.6061 0.60901 0.61189 0.61476 0.61761\n",
       "                         PC106   PC107   PC108   PC109  PC110   PC111   PC112\n",
       "Standard deviation     7.74418 7.72595 7.71621 7.70084 7.6826 7.66143 7.65210\n",
       "Proportion of Variance 0.00284 0.00283 0.00282 0.00281 0.0028 0.00278 0.00278\n",
       "Cumulative Proportion  0.62046 0.62329 0.62611 0.62893 0.6317 0.63451 0.63729\n",
       "                         PC113   PC114   PC115   PC116   PC117   PC118   PC119\n",
       "Standard deviation     7.63516 7.62683 7.62432 7.59579 7.57950 7.57152 7.56668\n",
       "Proportion of Variance 0.00276 0.00276 0.00276 0.00274 0.00272 0.00272 0.00272\n",
       "Cumulative Proportion  0.64005 0.64281 0.64557 0.64830 0.65103 0.65375 0.65646\n",
       "                        PC120   PC121   PC122   PC123   PC124   PC125   PC126\n",
       "Standard deviation     7.5482 7.53005 7.52521 7.51590 7.50444 7.49608 7.48520\n",
       "Proportion of Variance 0.0027 0.00269 0.00269 0.00268 0.00267 0.00266 0.00266\n",
       "Cumulative Proportion  0.6592 0.66185 0.66454 0.66722 0.66989 0.67255 0.67521\n",
       "                         PC127   PC128   PC129   PC130  PC131  PC132   PC133\n",
       "Standard deviation     7.47437 7.45610 7.44891 7.43063 7.4094 7.4036 7.38726\n",
       "Proportion of Variance 0.00265 0.00264 0.00263 0.00262 0.0026 0.0026 0.00259\n",
       "Cumulative Proportion  0.67786 0.68050 0.68313 0.68575 0.6884 0.6909 0.69354\n",
       "                         PC134   PC135   PC136   PC137   PC138   PC139   PC140\n",
       "Standard deviation     7.38392 7.36785 7.35250 7.33960 7.33393 7.31841 7.31534\n",
       "Proportion of Variance 0.00259 0.00257 0.00256 0.00255 0.00255 0.00254 0.00254\n",
       "Cumulative Proportion  0.69612 0.69870 0.70126 0.70382 0.70637 0.70891 0.71144\n",
       "                         PC141   PC142   PC143   PC144  PC145   PC146   PC147\n",
       "Standard deviation     7.30033 7.29964 7.28181 7.27445 7.2607 7.25156 7.23296\n",
       "Proportion of Variance 0.00253 0.00253 0.00251 0.00251 0.0025 0.00249 0.00248\n",
       "Cumulative Proportion  0.71397 0.71650 0.71901 0.72152 0.7240 0.72652 0.72900\n",
       "                         PC148   PC149   PC150   PC151   PC152   PC153   PC154\n",
       "Standard deviation     7.22401 7.21729 7.20439 7.19475 7.19309 7.18080 7.17553\n",
       "Proportion of Variance 0.00247 0.00247 0.00246 0.00245 0.00245 0.00245 0.00244\n",
       "Cumulative Proportion  0.73147 0.73394 0.73641 0.73886 0.74131 0.74376 0.74620\n",
       "                         PC155   PC156   PC157   PC158   PC159  PC160  PC161\n",
       "Standard deviation     7.15741 7.15412 7.14492 7.13587 7.12173 7.1127 7.1066\n",
       "Proportion of Variance 0.00243 0.00243 0.00242 0.00241 0.00241 0.0024 0.0024\n",
       "Cumulative Proportion  0.74863 0.75106 0.75348 0.75589 0.75830 0.7607 0.7631\n",
       "                         PC162   PC163   PC164   PC165   PC166   PC167   PC168\n",
       "Standard deviation     7.09455 7.07764 7.06787 7.06588 7.06164 7.04996 7.04449\n",
       "Proportion of Variance 0.00239 0.00238 0.00237 0.00237 0.00236 0.00236 0.00235\n",
       "Cumulative Proportion  0.76548 0.76786 0.77023 0.77259 0.77496 0.77732 0.77967\n",
       "                         PC169   PC170   PC171   PC172   PC173   PC174  PC175\n",
       "Standard deviation     7.03047 7.01386 7.00042 6.98725 6.97818 6.97370 6.9583\n",
       "Proportion of Variance 0.00234 0.00233 0.00232 0.00232 0.00231 0.00231 0.0023\n",
       "Cumulative Proportion  0.78201 0.78435 0.78667 0.78899 0.79130 0.79360 0.7959\n",
       "                         PC176   PC177   PC178   PC179   PC180   PC181   PC182\n",
       "Standard deviation     6.94648 6.94139 6.91985 6.91767 6.90655 6.90256 6.90053\n",
       "Proportion of Variance 0.00229 0.00229 0.00227 0.00227 0.00226 0.00226 0.00226\n",
       "Cumulative Proportion  0.79819 0.80047 0.80274 0.80501 0.80727 0.80953 0.81179\n",
       "                         PC183   PC184   PC185   PC186   PC187   PC188   PC189\n",
       "Standard deviation     6.88607 6.86647 6.86479 6.85604 6.84003 6.83625 6.81875\n",
       "Proportion of Variance 0.00225 0.00224 0.00223 0.00223 0.00222 0.00222 0.00221\n",
       "Cumulative Proportion  0.81404 0.81628 0.81851 0.82074 0.82296 0.82518 0.82738\n",
       "                        PC190   PC191   PC192   PC193   PC194   PC195   PC196\n",
       "Standard deviation     6.8126 6.80284 6.79499 6.78561 6.78048 6.76579 6.75735\n",
       "Proportion of Variance 0.0022 0.00219 0.00219 0.00218 0.00218 0.00217 0.00217\n",
       "Cumulative Proportion  0.8296 0.83178 0.83397 0.83615 0.83833 0.84050 0.84267\n",
       "                         PC197   PC198   PC199   PC200   PC201   PC202   PC203\n",
       "Standard deviation     6.74663 6.73774 6.72986 6.71775 6.70769 6.69588 6.69130\n",
       "Proportion of Variance 0.00216 0.00215 0.00215 0.00214 0.00213 0.00213 0.00212\n",
       "Cumulative Proportion  0.84483 0.84698 0.84913 0.85127 0.85340 0.85553 0.85765\n",
       "                         PC204   PC205  PC206  PC207   PC208   PC209   PC210\n",
       "Standard deviation     6.68176 6.66983 6.6549 6.6508 6.64078 6.63362 6.62990\n",
       "Proportion of Variance 0.00212 0.00211 0.0021 0.0021 0.00209 0.00209 0.00208\n",
       "Cumulative Proportion  0.85977 0.86188 0.8640 0.8661 0.86817 0.87025 0.87234\n",
       "                         PC211   PC212   PC213   PC214   PC215   PC216   PC217\n",
       "Standard deviation     6.62654 6.61277 6.58602 6.58072 6.57701 6.57118 6.55282\n",
       "Proportion of Variance 0.00208 0.00207 0.00206 0.00205 0.00205 0.00205 0.00204\n",
       "Cumulative Proportion  0.87442 0.87650 0.87855 0.88061 0.88266 0.88471 0.88674\n",
       "                         PC218   PC219   PC220   PC221   PC222  PC223  PC224\n",
       "Standard deviation     6.55127 6.52771 6.52490 6.52133 6.50873 6.4935 6.4906\n",
       "Proportion of Variance 0.00204 0.00202 0.00202 0.00202 0.00201 0.0020 0.0020\n",
       "Cumulative Proportion  0.88878 0.89080 0.89282 0.89483 0.89684 0.8988 0.9008\n",
       "                         PC225   PC226   PC227   PC228   PC229   PC230   PC231\n",
       "Standard deviation     6.47477 6.46946 6.45889 6.45565 6.44225 6.43744 6.42180\n",
       "Proportion of Variance 0.00199 0.00198 0.00198 0.00198 0.00197 0.00197 0.00196\n",
       "Cumulative Proportion  0.90283 0.90481 0.90679 0.90877 0.91074 0.91270 0.91466\n",
       "                         PC232   PC233   PC234   PC235   PC236   PC237   PC238\n",
       "Standard deviation     6.40928 6.38609 6.38212 6.37114 6.35821 6.34033 6.33968\n",
       "Proportion of Variance 0.00195 0.00193 0.00193 0.00193 0.00192 0.00191 0.00191\n",
       "Cumulative Proportion  0.91661 0.91854 0.92047 0.92240 0.92431 0.92622 0.92813\n",
       "                        PC239   PC240   PC241   PC242   PC243   PC244   PC245\n",
       "Standard deviation     6.3340 6.31027 6.30050 6.29731 6.28296 6.27649 6.27185\n",
       "Proportion of Variance 0.0019 0.00189 0.00188 0.00188 0.00187 0.00187 0.00187\n",
       "Cumulative Proportion  0.9300 0.93192 0.93380 0.93568 0.93755 0.93942 0.94129\n",
       "                         PC246   PC247   PC248   PC249   PC250   PC251   PC252\n",
       "Standard deviation     6.25584 6.24509 6.22948 6.21477 6.20541 6.18756 6.18125\n",
       "Proportion of Variance 0.00186 0.00185 0.00184 0.00183 0.00183 0.00182 0.00181\n",
       "Cumulative Proportion  0.94314 0.94499 0.94683 0.94867 0.95049 0.95231 0.95412\n",
       "                        PC253   PC254   PC255   PC256   PC257   PC258   PC259\n",
       "Standard deviation     6.1685 6.14530 6.13926 6.13120 6.12170 6.09883 6.09083\n",
       "Proportion of Variance 0.0018 0.00179 0.00179 0.00178 0.00178 0.00176 0.00176\n",
       "Cumulative Proportion  0.9559 0.95771 0.95950 0.96129 0.96306 0.96483 0.96659\n",
       "                         PC260   PC261   PC262   PC263   PC264  PC265   PC266\n",
       "Standard deviation     6.08146 6.06356 6.05279 6.02958 6.02081 5.9947 5.97409\n",
       "Proportion of Variance 0.00175 0.00174 0.00174 0.00172 0.00172 0.0017 0.00169\n",
       "Cumulative Proportion  0.96834 0.97008 0.97182 0.97355 0.97526 0.9770 0.97866\n",
       "                         PC267   PC268   PC269   PC270   PC271   PC272  PC273\n",
       "Standard deviation     5.95219 5.94596 5.89504 5.87499 5.86281 5.83188 5.8107\n",
       "Proportion of Variance 0.00168 0.00168 0.00165 0.00164 0.00163 0.00161 0.0016\n",
       "Cumulative Proportion  0.98034 0.98202 0.98367 0.98530 0.98693 0.98855 0.9901\n",
       "                         PC274   PC275   PC276   PC277  PC278   PC279   PC280\n",
       "Standard deviation     5.78621 5.75999 5.75422 5.70374 2.8904 1.98493 1.85829\n",
       "Proportion of Variance 0.00159 0.00157 0.00157 0.00154 0.0004 0.00019 0.00016\n",
       "Cumulative Proportion  0.99174 0.99331 0.99488 0.99642 0.9968 0.99701 0.99717\n",
       "                         PC281   PC282   PC283   PC284  PC285   PC286   PC287\n",
       "Standard deviation     1.69087 1.64886 1.57011 1.55249 1.4754 1.39520 1.33872\n",
       "Proportion of Variance 0.00014 0.00013 0.00012 0.00011 0.0001 0.00009 0.00008\n",
       "Cumulative Proportion  0.99730 0.99743 0.99755 0.99766 0.9978 0.99786 0.99795\n",
       "                         PC288   PC289   PC290   PC291   PC292   PC293   PC294\n",
       "Standard deviation     1.31113 1.26382 1.25483 1.22588 1.20354 1.18182 1.15017\n",
       "Proportion of Variance 0.00008 0.00008 0.00007 0.00007 0.00007 0.00007 0.00006\n",
       "Cumulative Proportion  0.99803 0.99810 0.99818 0.99825 0.99832 0.99838 0.99845\n",
       "                         PC295   PC296   PC297   PC298   PC299   PC300   PC301\n",
       "Standard deviation     1.12429 1.11917 1.09794 1.08283 1.06337 1.04798 1.04173\n",
       "Proportion of Variance 0.00006 0.00006 0.00006 0.00006 0.00005 0.00005 0.00005\n",
       "Cumulative Proportion  0.99851 0.99857 0.99862 0.99868 0.99873 0.99878 0.99884\n",
       "                         PC302   PC303   PC304   PC305   PC306   PC307   PC308\n",
       "Standard deviation     1.03470 1.02951 1.00637 1.00602 0.98356 0.98206 0.96903\n",
       "Proportion of Variance 0.00005 0.00005 0.00005 0.00005 0.00005 0.00005 0.00004\n",
       "Cumulative Proportion  0.99889 0.99894 0.99898 0.99903 0.99908 0.99912 0.99917\n",
       "                         PC309   PC310   PC311   PC312   PC313   PC314   PC315\n",
       "Standard deviation     0.95367 0.94447 0.93917 0.93304 0.91111 0.90873 0.90534\n",
       "Proportion of Variance 0.00004 0.00004 0.00004 0.00004 0.00004 0.00004 0.00004\n",
       "Cumulative Proportion  0.99921 0.99925 0.99930 0.99934 0.99938 0.99942 0.99945\n",
       "                         PC316   PC317   PC318   PC319   PC320   PC321   PC322\n",
       "Standard deviation     0.89648 0.89235 0.88347 0.87091 0.86244 0.85374 0.85213\n",
       "Proportion of Variance 0.00004 0.00004 0.00004 0.00004 0.00004 0.00003 0.00003\n",
       "Cumulative Proportion  0.99949 0.99953 0.99957 0.99960 0.99964 0.99967 0.99971\n",
       "                         PC323   PC324   PC325   PC326   PC327   PC328   PC329\n",
       "Standard deviation     0.83733 0.83440 0.81713 0.81483 0.80939 0.79711 0.73866\n",
       "Proportion of Variance 0.00003 0.00003 0.00003 0.00003 0.00003 0.00003 0.00003\n",
       "Cumulative Proportion  0.99974 0.99977 0.99981 0.99984 0.99987 0.99990 0.99992\n",
       "                         PC330   PC331   PC332   PC333     PC334\n",
       "Standard deviation     0.73045 0.65641 0.58713 0.53783 3.228e-14\n",
       "Proportion of Variance 0.00003 0.00002 0.00002 0.00001 0.000e+00\n",
       "Cumulative Proportion  0.99995 0.99997 0.99999 1.00000 1.000e+00"
      ]
     },
     "metadata": {},
     "output_type": "display_data"
    }
   ],
   "source": [
    "# pca$sdev[1:2]**2/sum(pca$sdev**2)\n",
    "summary(pca)"
   ]
  },
  {
   "attachments": {},
   "cell_type": "markdown",
   "metadata": {},
   "source": [
    "## WGCNA"
   ]
  },
  {
   "cell_type": "code",
   "execution_count": null,
   "metadata": {
    "vscode": {
     "languageId": "r"
    }
   },
   "outputs": [],
   "source": [
    "rse_QSV <- readRDS(\"../outputs/rse_processed_QSV.rds\")\n",
    "rse_noQSV <- readRDS(\"../outputs/rse_processed_noQSV.rds\")"
   ]
  },
  {
   "cell_type": "code",
   "execution_count": null,
   "metadata": {
    "vscode": {
     "languageId": "r"
    }
   },
   "outputs": [],
   "source": [
    "source(\"../code/wgcna.r\")\n",
    "# sft <- get_soft_threshold(rse_noQSV)\n",
    "# power <- sft$powerEstimate\n",
    "\n",
    "net_QSV <- fit_WGCNA(rse_QSV, power=3, threads = 9,\n",
    "                loadTOM = TRUE, fileBase = \"QSV\")\n",
    "\n",
    "net_noQSV <- fit_WGCNA(rse_noQSV, power=4, threads = 9,\n",
    "                loadTOM = TRUE, fileBase = \"noQSV\")"
   ]
  }
 ],
 "metadata": {
  "kernelspec": {
   "display_name": "R",
   "language": "R",
   "name": "ir"
  },
  "language_info": {
   "codemirror_mode": "r",
   "file_extension": ".r",
   "mimetype": "text/x-r-source",
   "name": "R",
   "pygments_lexer": "r",
   "version": "4.2.2"
  },
  "orig_nbformat": 4,
  "vscode": {
   "interpreter": {
    "hash": "31f2aee4e71d21fbe5cf8b01ff0e069b9275f58929596ceb00d14d90e3e16cd6"
   }
  }
 },
 "nbformat": 4,
 "nbformat_minor": 2
}
